{
 "cells": [
  {
   "cell_type": "code",
   "execution_count": 1,
   "metadata": {},
   "outputs": [],
   "source": [
    "import os"
   ]
  },
  {
   "cell_type": "code",
   "execution_count": 2,
   "metadata": {},
   "outputs": [
    {
     "data": {
      "text/plain": [
       "'c:\\\\Users\\\\vloke\\\\Documents\\\\My_Project\\\\E-learning_recommender_system\\\\research'"
      ]
     },
     "execution_count": 2,
     "metadata": {},
     "output_type": "execute_result"
    }
   ],
   "source": [
    "%pwd"
   ]
  },
  {
   "cell_type": "code",
   "execution_count": 3,
   "metadata": {},
   "outputs": [],
   "source": [
    "os.chdir(\"../\")"
   ]
  },
  {
   "cell_type": "code",
   "execution_count": 4,
   "metadata": {},
   "outputs": [
    {
     "data": {
      "text/plain": [
       "'c:\\\\Users\\\\vloke\\\\Documents\\\\My_Project\\\\E-learning_recommender_system'"
      ]
     },
     "execution_count": 4,
     "metadata": {},
     "output_type": "execute_result"
    }
   ],
   "source": [
    "%pwd"
   ]
  },
  {
   "cell_type": "markdown",
   "metadata": {},
   "source": [
    "## 1.Updated Entity"
   ]
  },
  {
   "cell_type": "code",
   "execution_count": 5,
   "metadata": {},
   "outputs": [],
   "source": [
    "from dataclasses import dataclass\n",
    "from pathlib import Path\n",
    "\n",
    "@dataclass(frozen=True)\n",
    "class DataTransformationConig:\n",
    "    root_dir: Path\n",
    "    raw_data: str\n",
    "    fet_eng_data: str\n",
    "    text_preprocess_data: str\n",
    "    final_data: str\n",
    "    tf_idf_vectorizer: str \n",
    "    transformed_data: str"
   ]
  },
  {
   "cell_type": "markdown",
   "metadata": {},
   "source": [
    "##2.Update the Configuration manager in src Config"
   ]
  },
  {
   "cell_type": "code",
   "execution_count": 6,
   "metadata": {},
   "outputs": [
    {
     "name": "stderr",
     "output_type": "stream",
     "text": [
      "[nltk_data] Downloading package stopwords to\n",
      "[nltk_data]     C:\\Users\\vloke\\AppData\\Roaming\\nltk_data...\n",
      "[nltk_data]   Package stopwords is already up-to-date!\n",
      "[nltk_data] Downloading package punkt to\n",
      "[nltk_data]     C:\\Users\\vloke\\AppData\\Roaming\\nltk_data...\n",
      "[nltk_data]   Package punkt is already up-to-date!\n"
     ]
    }
   ],
   "source": [
    "from E_learning_recommender_system.constants import CONFIG_FILE_PATH\n",
    "from E_learning_recommender_system.utils.common import read_yaml,create_directories"
   ]
  },
  {
   "cell_type": "code",
   "execution_count": 7,
   "metadata": {},
   "outputs": [],
   "source": [
    "class ConfigurationManger:\n",
    "    def __init__(self,config_filepath = CONFIG_FILE_PATH):\n",
    "\n",
    "        self.config = read_yaml(config_filepath)\n",
    "\n",
    "        create_directories([self.config.artifacts_root])\n",
    "\n",
    "    def get_data_transformation_config(self)->DataTransformationConig:\n",
    "        config = self.config.data_transformation\n",
    "\n",
    "        create_directories([config.root_dir])\n",
    "\n",
    "        data_transformation_config = DataTransformationConig(\n",
    "            root_dir=config.root_dir,\n",
    "            raw_data=config.raw_data,\n",
    "            fet_eng_data = config.fet_eng_data,\n",
    "            text_preprocess_data = config.text_preprocess_data,\n",
    "            final_data = config.final_data,\n",
    "            tf_idf_vectorizer  = config.tf_idf_vectorizer,\n",
    "            transformed_data = config.transformed_data\n",
    "        )       \n",
    "        \n",
    "        return data_transformation_config"
   ]
  },
  {
   "cell_type": "markdown",
   "metadata": {},
   "source": [
    "## 3.Update the Components"
   ]
  },
  {
   "cell_type": "code",
   "execution_count": 8,
   "metadata": {},
   "outputs": [],
   "source": [
    "import pandas as pd\n",
    "import joblib\n",
    "from E_learning_recommender_system.logging import logging\n",
    "from E_learning_recommender_system.utils.common import preprocess_text\n",
    "from sklearn.feature_extraction.text import TfidfVectorizer"
   ]
  },
  {
   "cell_type": "code",
   "execution_count": 9,
   "metadata": {},
   "outputs": [],
   "source": [
    "class DataTransformation:\n",
    "    def __init__(self, config: DataTransformationConig):\n",
    "        self.config = config\n",
    "        \n",
    "    def feature_engineering(self):\n",
    "        if not os.path.exists(self.config.fet_eng_data):\n",
    "            logging.info(f\">>>>> Feture Engneering is started <<<<<<\")\n",
    "\n",
    "            df = pd.read_csv(self.config.raw_data)\n",
    "            # Calculate average rating for each course\n",
    "            average_rating = df.groupby('course_id')['rating'].mean().reset_index()\n",
    "            average_rating.rename(columns={'rating': 'Average rating'}, inplace=True)\n",
    "            average_rating['Average rating'] = average_rating['Average rating'].round(1)\n",
    "\n",
    "            # Calculate number of reviews for each course\n",
    "            num_reviews = df.groupby('course_id')['rating'].count().reset_index()\n",
    "            num_reviews.rename(columns={'rating': 'Number of reviews'}, inplace=True)\n",
    "\n",
    "            # Calculate popularity based on the number of reviews\n",
    "            popularity = num_reviews.copy()\n",
    "            popularity['Popularity'] = pd.qcut(popularity['Number of reviews'], q=4, labels=['Low', 'Medium', 'High', 'Very High'])\n",
    "\n",
    "            # Select the desired columns from the original DataFrame\n",
    "            selected_columns = ['course_id', 'course_name', 'difficulty', 'description', 'learning', 'tags']\n",
    "            df_selected = df[selected_columns].drop_duplicates()\n",
    "\n",
    "            # Merge the calculated metrics with the selected columns\n",
    "            result_df = df_selected.merge(average_rating, on='course_id', how='left')\n",
    "            result_df = result_df.merge(num_reviews, on='course_id', how='left')\n",
    "            result_df = result_df.merge(popularity[['course_id', 'Popularity']], on='course_id', how='left')\n",
    "\n",
    "            # Saving feture Engineering Data\n",
    "\n",
    "            result_df.to_csv(self.config.fet_eng_data,index=False)\n",
    "\n",
    "            logging.info(f\">>>>>> Feture Engneering is completed and saved in {self.config.fet_eng_data}\")\n",
    "\n",
    "    def text_preprocessing(self):\n",
    "        if not os.path.exists(self.config.text_preprocess_data):\n",
    "            logging.info(\">>>>> Text Preprocessing is started <<<<<<\")\n",
    "            # Reading fet_eng_files\n",
    "            df_new = pd.read_csv(self.config.fet_eng_data)\n",
    "            # Apply text preprocessing to your columns\n",
    "            df_new['tags_preprocessed'] = df_new['tags'].apply(preprocess_text)\n",
    "            df_new['description_preprocessed'] = df_new['description'].apply(preprocess_text)\n",
    "            df_new['course_name_preprocessed'] = df_new['course_name'].apply(preprocess_text)\n",
    "\n",
    "            # Optionally, you can combine the preprocessed columns into a single column\n",
    "            df_new['combined_text'] = df_new['tags_preprocessed'] + ' ' + df_new['description_preprocessed'] + ' ' + df_new['course_name_preprocessed']\n",
    "\n",
    "            # If you want to drop the preprocessed columns, you can use the following code:\n",
    "            df_new.drop(['tags_preprocessed', 'description_preprocessed', 'course_name_preprocessed'], axis=1, inplace=True)\n",
    "\n",
    "            # Save the preprocessed dataset if needed\n",
    "            df_new.to_csv(self.config.text_preprocess_data, index=False)\n",
    "\n",
    "            logging.info(f\">>>>>> Text Preprocessing is Completed and saved in {self.config.text_preprocess_data}\")\n",
    "\n",
    "    def word_embedding(self):\n",
    "        if not os.path.exists(self.config.transformed_data):\n",
    "            logging.info(\">>>>>>Word Embending is started with tf-idf Vectorizer<<<<<<\")\n",
    "\n",
    "            #Reading Text_preprocess_data\n",
    "            df = pd.read_csv(self.config.text_preprocess_data)\n",
    "\n",
    "            tfidf_vectorizer = TfidfVectorizer()\n",
    "            tfidf_matrix = tfidf_vectorizer.fit_transform(df['combined_text'])\n",
    "\n",
    "            # Save the TfidfVectorizer to disk\n",
    "            joblib.dump(tfidf_vectorizer, self.config.tf_idf_vectorizer)\n",
    "\n",
    "            # Save the transformed data to disk\n",
    "            joblib.dump(tfidf_matrix, self.config.transformed_data)\n",
    "\n",
    "            logging.info(f\"TF-IDF vectorizer and matrix  as saved to {self.config.tf_idf_vectorizer}and{self.config.transformed_data}\")\n",
    "        else:\n",
    "            logging.info(f\"TF-IDF matrix already exists at {self.config.transformed_data}\")\n",
    "\n",
    "    def final_data(self):\n",
    "        if not os.path.exists(self.config.final_data):\n",
    "            logging.info(\">>>>>>Removing Un-necessary features<<<<<<\")\n",
    "            df = pd.read_csv(self.config.fet_eng_data)\n",
    "\n",
    "            # Adding required features only\n",
    "            req_features = ['course_name','description','learning','difficulty','Average rating','Popularity']\n",
    "            final = df[req_features]\n",
    "\n",
    "            final.to_csv(self.config.final_data,index=False)\n",
    "\n",
    "            logging.info(\">>>>>>final data-set as saved<<<<<<\")    "
   ]
  },
  {
   "cell_type": "markdown",
   "metadata": {},
   "source": [
    "## 4. Update the Pipeline"
   ]
  },
  {
   "cell_type": "code",
   "execution_count": 10,
   "metadata": {},
   "outputs": [],
   "source": [
    "try:\n",
    "    config = ConfigurationManger()\n",
    "    data_transformation_config = config.get_data_transformation_config()\n",
    "    data_transformation = DataTransformation(config=data_transformation_config)\n",
    "    data_transformation.feature_engineering()\n",
    "    data_transformation.text_preprocessing()\n",
    "    data_transformation.word_embedding()\n",
    "    data_transformation.final_data()\n",
    "except Exception as e:\n",
    "    raise e"
   ]
  }
 ],
 "metadata": {
  "kernelspec": {
   "display_name": "Python 3",
   "language": "python",
   "name": "python3"
  },
  "language_info": {
   "codemirror_mode": {
    "name": "ipython",
    "version": 3
   },
   "file_extension": ".py",
   "mimetype": "text/x-python",
   "name": "python",
   "nbconvert_exporter": "python",
   "pygments_lexer": "ipython3",
   "version": "3.11.5"
  }
 },
 "nbformat": 4,
 "nbformat_minor": 2
}
