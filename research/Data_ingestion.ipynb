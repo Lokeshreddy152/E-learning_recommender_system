{
 "cells": [
  {
   "cell_type": "code",
   "execution_count": 1,
   "metadata": {},
   "outputs": [],
   "source": [
    "import os"
   ]
  },
  {
   "cell_type": "code",
   "execution_count": 2,
   "metadata": {},
   "outputs": [
    {
     "data": {
      "text/plain": [
       "'c:\\\\Users\\\\vloke\\\\Documents\\\\My_Project\\\\E-learning_recommender_system\\\\research'"
      ]
     },
     "execution_count": 2,
     "metadata": {},
     "output_type": "execute_result"
    }
   ],
   "source": [
    "%pwd"
   ]
  },
  {
   "cell_type": "code",
   "execution_count": 3,
   "metadata": {},
   "outputs": [],
   "source": [
    "os.chdir(\"../\")"
   ]
  },
  {
   "cell_type": "code",
   "execution_count": 4,
   "metadata": {},
   "outputs": [
    {
     "data": {
      "text/plain": [
       "'c:\\\\Users\\\\vloke\\\\Documents\\\\My_Project\\\\E-learning_recommender_system'"
      ]
     },
     "execution_count": 4,
     "metadata": {},
     "output_type": "execute_result"
    }
   ],
   "source": [
    "%pwd"
   ]
  },
  {
   "cell_type": "markdown",
   "metadata": {},
   "source": [
    "## 1. Update entity\n"
   ]
  },
  {
   "cell_type": "code",
   "execution_count": 5,
   "metadata": {},
   "outputs": [],
   "source": [
    "from dataclasses import dataclass\n",
    "from pathlib import Path\n",
    "\n",
    "@dataclass\n",
    "class DataIngestionConfig:\n",
    "    root_dir: Path\n",
    "    extract_data: Path\n",
    "    raw_data: str\n",
    "    sql_query:str\n",
    "    db_host: str\n",
    "    db_port: str\n",
    "    db_name: str\n",
    "    db_user: str\n",
    "    db_password: str"
   ]
  },
  {
   "cell_type": "markdown",
   "metadata": {},
   "source": [
    "## 2. Update the Configuration manager in src Config"
   ]
  },
  {
   "cell_type": "code",
   "execution_count": 11,
   "metadata": {},
   "outputs": [],
   "source": [
    "from E_learning_recommender_system.constants import CONFIG_FILE_PATH\n",
    "from E_learning_recommender_system.utils.common import read_yaml,create_directories"
   ]
  },
  {
   "cell_type": "code",
   "execution_count": 12,
   "metadata": {},
   "outputs": [],
   "source": [
    "class ConfigurationManger:\n",
    "    def __init__(self,config_filepath = CONFIG_FILE_PATH):\n",
    "\n",
    "        self.config = read_yaml(config_filepath)\n",
    "\n",
    "        create_directories([self.config.artifacts_root])\n",
    "\n",
    "    def get_data_ingestion_config(self)->DataIngestionConfig:\n",
    "        config = self.config.data_ingestion\n",
    "\n",
    "        create_directories([config.root_dir])\n",
    "        create_directories([config.extract_data])\n",
    "\n",
    "        data_ingestion_config = DataIngestionConfig(\n",
    "            root_dir=config.root_dir,\n",
    "            extract_data= config.extract_data,\n",
    "            raw_data= config.raw_data,\n",
    "            sql_query= config.sql_query,\n",
    "            db_host = config.db_host,\n",
    "            db_port = config.db_port ,   \n",
    "            db_name = config.db_name,\n",
    "            db_user = config.db_user,\n",
    "            db_password = config.db_password\n",
    "        )       \n",
    "\n",
    "        return data_ingestion_config"
   ]
  },
  {
   "cell_type": "markdown",
   "metadata": {},
   "source": [
    "## 3.Update the Components"
   ]
  },
  {
   "cell_type": "code",
   "execution_count": 13,
   "metadata": {},
   "outputs": [],
   "source": [
    "import os\n",
    "import pandas as pd\n",
    "import psycopg2\n",
    "from E_learning_recommender_system.logging import logging"
   ]
  },
  {
   "cell_type": "code",
   "execution_count": 14,
   "metadata": {},
   "outputs": [],
   "source": [
    "class DataIngestion:\n",
    "    def __init__(self, config: DataIngestionConfig):\n",
    "        self.config = config\n",
    "    \n",
    "    def extracted_data_from_sql(self):\n",
    "        if not os.path.exists(self.config.raw_data):\n",
    "            # Establish a connection to the PostgreSQL database\n",
    "            connection = psycopg2.connect(\n",
    "                host=self.config.db_host,\n",
    "                port=self.config.db_port,\n",
    "                database=self.config.db_name,\n",
    "                user=self.config.db_user,\n",
    "                password=self.config.db_password\n",
    "            )\n",
    "\n",
    "            try:\n",
    "                # Execute the SQL query and fetch data into a Pandas DataFrame\n",
    "                data = pd.read_sql_query(self.config.sql_query, connection)\n",
    "                \n",
    "                # Define the path to save the extracted data as a CSV file\n",
    "                output_path = self.config.raw_data\n",
    "\n",
    "                # Save the data to a CSV file\n",
    "                data.to_csv(output_path, index=False)\n",
    "\n",
    "                logging.info(f\"Data extracted and saved to {output_path}\")\n",
    "            finally:\n",
    "                # Close the database connection, regardless of success or failure\n",
    "                connection.close()\n",
    "        else:\n",
    "            logging.info(f\"CSV file already exists at {self.config.extract_data}\")"
   ]
  },
  {
   "cell_type": "markdown",
   "metadata": {},
   "source": [
    "## 5. Update the Pipeline"
   ]
  },
  {
   "cell_type": "code",
   "execution_count": 15,
   "metadata": {},
   "outputs": [],
   "source": [
    "try:\n",
    "    config = ConfigurationManger()\n",
    "    data_ingestion_config = config.get_data_ingestion_config()\n",
    "    data_ingestion = DataIngestion(config=data_ingestion_config)\n",
    "    data_ingestion.extracted_data_from_sql()\n",
    "except Exception as e:\n",
    "    raise e"
   ]
  }
 ],
 "metadata": {
  "kernelspec": {
   "display_name": "Python 3",
   "language": "python",
   "name": "python3"
  },
  "language_info": {
   "codemirror_mode": {
    "name": "ipython",
    "version": 3
   },
   "file_extension": ".py",
   "mimetype": "text/x-python",
   "name": "python",
   "nbconvert_exporter": "python",
   "pygments_lexer": "ipython3",
   "version": "3.11.5"
  }
 },
 "nbformat": 4,
 "nbformat_minor": 2
}
