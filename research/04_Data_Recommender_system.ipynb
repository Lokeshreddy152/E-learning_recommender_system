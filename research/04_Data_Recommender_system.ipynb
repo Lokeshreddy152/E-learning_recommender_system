{
 "cells": [
  {
   "cell_type": "code",
   "execution_count": 1,
   "metadata": {},
   "outputs": [],
   "source": [
    "import os"
   ]
  },
  {
   "cell_type": "code",
   "execution_count": 2,
   "metadata": {},
   "outputs": [
    {
     "data": {
      "text/plain": [
       "'c:\\\\Users\\\\vloke\\\\Documents\\\\My_Project\\\\E-learning_recommender_system\\\\research'"
      ]
     },
     "execution_count": 2,
     "metadata": {},
     "output_type": "execute_result"
    }
   ],
   "source": [
    "%pwd"
   ]
  },
  {
   "cell_type": "code",
   "execution_count": 3,
   "metadata": {},
   "outputs": [],
   "source": [
    "os.chdir(\"../\")"
   ]
  },
  {
   "cell_type": "code",
   "execution_count": 4,
   "metadata": {},
   "outputs": [
    {
     "data": {
      "text/plain": [
       "'c:\\\\Users\\\\vloke\\\\Documents\\\\My_Project\\\\E-learning_recommender_system'"
      ]
     },
     "execution_count": 4,
     "metadata": {},
     "output_type": "execute_result"
    }
   ],
   "source": [
    "%pwd"
   ]
  },
  {
   "cell_type": "markdown",
   "metadata": {},
   "source": [
    "## 1.Updated Entity"
   ]
  },
  {
   "cell_type": "code",
   "execution_count": 5,
   "metadata": {},
   "outputs": [],
   "source": [
    "from dataclasses import dataclass\n",
    "from pathlib import Path\n",
    "\n",
    "@dataclass(frozen=True)\n",
    "class DataRecommenderSystemConig:\n",
    "    final_data: str\n",
    "    tf_idf_vectorizer: str\n",
    "    transformed_data: str"
   ]
  },
  {
   "cell_type": "markdown",
   "metadata": {},
   "source": [
    "## 2.Update the Configuration manager in src Config"
   ]
  },
  {
   "cell_type": "code",
   "execution_count": 6,
   "metadata": {},
   "outputs": [
    {
     "name": "stderr",
     "output_type": "stream",
     "text": [
      "[nltk_data] Downloading package stopwords to\n",
      "[nltk_data]     C:\\Users\\vloke\\AppData\\Roaming\\nltk_data...\n",
      "[nltk_data]   Package stopwords is already up-to-date!\n",
      "[nltk_data] Downloading package punkt to\n",
      "[nltk_data]     C:\\Users\\vloke\\AppData\\Roaming\\nltk_data...\n",
      "[nltk_data]   Package punkt is already up-to-date!\n"
     ]
    }
   ],
   "source": [
    "from E_learning_recommender_system.constants import CONFIG_FILE_PATH\n",
    "from E_learning_recommender_system.utils.common import read_yaml"
   ]
  },
  {
   "cell_type": "code",
   "execution_count": 7,
   "metadata": {},
   "outputs": [],
   "source": [
    "class ConfigurationManger:\n",
    "    def __init__(self,config_filepath = CONFIG_FILE_PATH):\n",
    "\n",
    "        self.config = read_yaml(config_filepath)\n",
    "\n",
    "    def get_data_recommender_system_config(self)->DataRecommenderSystemConig:\n",
    "        config = self.config.data_recommender_system\n",
    "\n",
    "        data_recommender_system_config = DataRecommenderSystemConig(\n",
    "            final_data=config.final_data,\n",
    "            tf_idf_vectorizer= config.tf_idf_vectorizer,\n",
    "            transformed_data= config.transformed_data\n",
    "        )       \n",
    "\n",
    "        return data_recommender_system_config"
   ]
  },
  {
   "cell_type": "markdown",
   "metadata": {},
   "source": [
    "## 3.Update the Components"
   ]
  },
  {
   "cell_type": "code",
   "execution_count": 8,
   "metadata": {},
   "outputs": [],
   "source": [
    "import os\n",
    "import sys\n",
    "import joblib\n",
    "import pandas as pd\n",
    "from E_learning_recommender_system.logging import logging\n",
    "from sklearn.metrics.pairwise import cosine_similarity\n",
    "from E_learning_recommender_system.exception import CustomException\n",
    "from E_learning_recommender_system.utils.common import preprocess_text"
   ]
  },
  {
   "cell_type": "code",
   "execution_count": 9,
   "metadata": {},
   "outputs": [],
   "source": [
    "class DataRecommenderSystem:\n",
    "    def __init__(self, config:DataRecommenderSystemConig):\n",
    "        self.config = config\n",
    "\n",
    "    def load_tfidf_vectorizer_and_transformed_data(self):\n",
    "        try:\n",
    "            self.tfidf_vectorizer = joblib.load(self.config.tf_idf_vectorizer)\n",
    "            self.transformed_data = joblib.load(self.config.transformed_data)\n",
    "        except Exception as e:\n",
    "            return CustomException(e, sys)\n",
    "\n",
    "    def recommend_courses(self, user_input):\n",
    "        try:\n",
    "            # Reading final.csv file\n",
    "            data = pd.read_csv(self.config.final_data)\n",
    "            # Preprocess the user input to make it compatible with the TF-IDF vectorizer\n",
    "            user_input = preprocess_text(user_input)\n",
    "\n",
    "            # Transform the preprocessed user input into a TF-IDF vector\n",
    "            user_vector = self.tfidf_vectorizer.transform([user_input])\n",
    "\n",
    "            # Compute the cosine similarity between the user's input and all courses in the TF-IDF matrix\n",
    "            cosine_sim = cosine_similarity(user_vector, self.transformed_data)  # Use cosine_similarity\n",
    "\n",
    "            # Create a list of tuples where each tuple contains the index of a course and its cosine similarity score\n",
    "            sim_scores = list(enumerate(cosine_sim[0]))\n",
    "\n",
    "            # Sort the list of course indices and cosine similarity scores in descending order based on the scores\n",
    "            sim_scores = sorted(sim_scores, key=lambda x: x[1], reverse=True)\n",
    "\n",
    "            # Get the top 5 similar courses (excluding the user's input itself)\n",
    "            top_courses = sim_scores[1:6]\n",
    "\n",
    "            # Extract the indices of the recommended courses from the sorted list\n",
    "            course_indices = [i[0] for i in top_courses]\n",
    "\n",
    "            # Retrieve the recommended courses from the original dataset using the course indices\n",
    "            recommended_courses = data.iloc[course_indices]\n",
    "\n",
    "            return recommended_courses\n",
    "        except Exception as e:\n",
    "            raise CustomException(e, sys)\n",
    "\n",
    "    def display_recommendations(self, recommended_courses):\n",
    "        try:\n",
    "            for index, row in recommended_courses.iterrows():\n",
    "                print(\"Course Name:\", row['course_name'])\n",
    "                print(\"Description:\\n\", row['description'])\n",
    "                print(\"Learning Process:\\n\", row['learning'])\n",
    "                print(\"Difficulty:\", row['difficulty'])\n",
    "                print(\"Rating:\", row['Average rating'])\n",
    "                print(\"Popularity:\", row['Popularity'])\n",
    "                print(\"-\" * 100)\n",
    "                print(\"\\n\")\n",
    "        except Exception as e:\n",
    "            raise CustomException(e, sys)\n"
   ]
  },
  {
   "cell_type": "code",
   "execution_count": 10,
   "metadata": {},
   "outputs": [
    {
     "name": "stdout",
     "output_type": "stream",
     "text": [
      "Course Name: Advanced Python Programming\n",
      "Description:\n",
      " This intermediate-level course builds upon the fundamentals of Python. You will learn advanced Python concepts, including decorators, generators, and metaclasses. Explore real-world applications and best practices in Python programming.\n",
      "Learning Process:\n",
      " Master advanced Python concepts like decorators and metaclasses.\n",
      "Explore Python libraries and frameworks for various applications.\n",
      "Understand best practices for Python code organization and optimization.\n",
      "Apply Python programming skills to develop real-world applications.\n",
      "Difficulty: Intermediate\n",
      "Rating: 3.0\n",
      "Popularity: Medium\n",
      "----------------------------------------------------------------------------------------------------\n",
      "\n",
      "\n",
      "Course Name: Advanced Python Scripting\n",
      "Description:\n",
      " This intermediate-level course focuses on advanced Python scripting. Learn to automate tasks and build Python applications.\n",
      "Learning Process:\n",
      " Master advanced Python scripting techniques and libraries.\n",
      "Learn to automate repetitive tasks with Python scripts.\n",
      "Explore web scraping, data manipulation, and scripting best practices.\n",
      "Develop Python applications for various purposes.\n",
      "Difficulty: Intermediate\n",
      "Rating: 3.6\n",
      "Popularity: Very High\n",
      "----------------------------------------------------------------------------------------------------\n",
      "\n",
      "\n",
      "Course Name: Data Science with Python\n",
      "Description:\n",
      " This intermediate-level course focuses on data science using Python. Learn data analysis, visualization, and machine learning techniques for data-driven insights.\n",
      "Learning Process:\n",
      " Explore data preprocessing, analysis, and visualization using Python libraries.\n",
      "Learn machine learning techniques for predictive modeling.\n",
      "Work with real-world datasets and solve data science problems.\n",
      "Communicate data-driven insights effectively.\n",
      "Difficulty: Intermediate\n",
      "Rating: 3.1\n",
      "Popularity: Low\n",
      "----------------------------------------------------------------------------------------------------\n",
      "\n",
      "\n",
      "Course Name: Data Analysis with Python\n",
      "Description:\n",
      " This intermediate-level course focuses on data analysis with Python. Learn about data manipulation, visualization, and statistical analysis.\n",
      "Learning Process:\n",
      " Master data manipulation with Python libraries like pandas.\n",
      "Create data visualizations using tools like Matplotlib and Seaborn.\n",
      "Perform statistical analysis and hypothesis testing on data.\n",
      "Work with real-world datasets to gain data analysis skills.\n",
      "Difficulty: Intermediate\n",
      "Rating: 2.6\n",
      "Popularity: Low\n",
      "----------------------------------------------------------------------------------------------------\n",
      "\n",
      "\n",
      "Course Name: Cyber-Physical Systems and IoT Integration\n",
      "Description:\n",
      " This advanced-level course focuses on cyber-physical systems (CPS) and their integration with the Internet of Things (IoT). Learn about CPS design and IoT connectivity.\n",
      "Learning Process:\n",
      " Master the principles of cyber-physical systems (CPS).\n",
      "Learn about IoT integration and connectivity for CPS applications.\n",
      "Explore real-world CPS and IoT use cases in industry.\n",
      "Design and develop advanced CPS and IoT solutions.\n",
      "Difficulty: Advanced\n",
      "Rating: 3.0\n",
      "Popularity: High\n",
      "----------------------------------------------------------------------------------------------------\n",
      "\n",
      "\n"
     ]
    }
   ],
   "source": [
    "config = ConfigurationManger()\n",
    "data_recommender_system_config = config.get_data_recommender_system_config()\n",
    "data_recommender_system = DataRecommenderSystem(config=data_recommender_system_config)\n",
    "data_recommender_system.load_tfidf_vectorizer_and_transformed_data()\n",
    "\n",
    "user_input = input(\"Enter a course name or related keyword: \")\n",
    "recommended_courses = data_recommender_system.recommend_courses(user_input)\n",
    "\n",
    "if recommended_courses is not None:\n",
    "    data_recommender_system.display_recommendations(recommended_courses)\n",
    "else:\n",
    "    print(\"Recommendation process failed.\")"
   ]
  },
  {
   "cell_type": "markdown",
   "metadata": {},
   "source": [
    "## 4. Update the Pipeline"
   ]
  },
  {
   "cell_type": "code",
   "execution_count": 11,
   "metadata": {},
   "outputs": [
    {
     "ename": "TypeError",
     "evalue": "DataRecommenderSystem.recommend_courses() missing 1 required positional argument: 'user_input'",
     "output_type": "error",
     "traceback": [
      "\u001b[1;31m---------------------------------------------------------------------------\u001b[0m",
      "\u001b[1;31mTypeError\u001b[0m                                 Traceback (most recent call last)",
      "\u001b[1;32mc:\\Users\\vloke\\Documents\\My_Project\\E-learning_recommender_system\\research\\04_Data_Recommender_system.ipynb Cell 15\u001b[0m line \u001b[0;36m9\n\u001b[0;32m      <a href='vscode-notebook-cell:/c%3A/Users/vloke/Documents/My_Project/E-learning_recommender_system/research/04_Data_Recommender_system.ipynb#X16sZmlsZQ%3D%3D?line=6'>7</a>\u001b[0m     data_recommende_system\u001b[39m.\u001b[39mdisplay_recommendations()\n\u001b[0;32m      <a href='vscode-notebook-cell:/c%3A/Users/vloke/Documents/My_Project/E-learning_recommender_system/research/04_Data_Recommender_system.ipynb#X16sZmlsZQ%3D%3D?line=7'>8</a>\u001b[0m \u001b[39mexcept\u001b[39;00m \u001b[39mException\u001b[39;00m \u001b[39mas\u001b[39;00m e:\n\u001b[1;32m----> <a href='vscode-notebook-cell:/c%3A/Users/vloke/Documents/My_Project/E-learning_recommender_system/research/04_Data_Recommender_system.ipynb#X16sZmlsZQ%3D%3D?line=8'>9</a>\u001b[0m     \u001b[39mraise\u001b[39;00m e\n",
      "\u001b[1;32mc:\\Users\\vloke\\Documents\\My_Project\\E-learning_recommender_system\\research\\04_Data_Recommender_system.ipynb Cell 15\u001b[0m line \u001b[0;36m6\n\u001b[0;32m      <a href='vscode-notebook-cell:/c%3A/Users/vloke/Documents/My_Project/E-learning_recommender_system/research/04_Data_Recommender_system.ipynb#X16sZmlsZQ%3D%3D?line=3'>4</a>\u001b[0m     data_recommende_system \u001b[39m=\u001b[39m DataRecommenderSystem(config\u001b[39m=\u001b[39mdata_recommender_system_config)\n\u001b[0;32m      <a href='vscode-notebook-cell:/c%3A/Users/vloke/Documents/My_Project/E-learning_recommender_system/research/04_Data_Recommender_system.ipynb#X16sZmlsZQ%3D%3D?line=4'>5</a>\u001b[0m     data_recommende_system\u001b[39m.\u001b[39mload_tfidf_vectorizer_and_transformed_data()\n\u001b[1;32m----> <a href='vscode-notebook-cell:/c%3A/Users/vloke/Documents/My_Project/E-learning_recommender_system/research/04_Data_Recommender_system.ipynb#X16sZmlsZQ%3D%3D?line=5'>6</a>\u001b[0m     data_recommende_system\u001b[39m.\u001b[39;49mrecommend_courses()\n\u001b[0;32m      <a href='vscode-notebook-cell:/c%3A/Users/vloke/Documents/My_Project/E-learning_recommender_system/research/04_Data_Recommender_system.ipynb#X16sZmlsZQ%3D%3D?line=6'>7</a>\u001b[0m     data_recommende_system\u001b[39m.\u001b[39mdisplay_recommendations()\n\u001b[0;32m      <a href='vscode-notebook-cell:/c%3A/Users/vloke/Documents/My_Project/E-learning_recommender_system/research/04_Data_Recommender_system.ipynb#X16sZmlsZQ%3D%3D?line=7'>8</a>\u001b[0m \u001b[39mexcept\u001b[39;00m \u001b[39mException\u001b[39;00m \u001b[39mas\u001b[39;00m e:\n",
      "\u001b[1;31mTypeError\u001b[0m: DataRecommenderSystem.recommend_courses() missing 1 required positional argument: 'user_input'"
     ]
    }
   ],
   "source": [
    "try:\n",
    "    config = ConfigurationManger()\n",
    "    data_recommender_system_config = config.get_data_recommender_system_config()\n",
    "    data_recommende_system = DataRecommenderSystem(config=data_recommender_system_config)\n",
    "    data_recommende_system.load_tfidf_vectorizer_and_transformed_data()\n",
    "    data_recommende_system.recommend_courses()\n",
    "    data_recommende_system.display_recommendations()\n",
    "except Exception as e:\n",
    "    raise e"
   ]
  },
  {
   "cell_type": "code",
   "execution_count": null,
   "metadata": {},
   "outputs": [],
   "source": []
  }
 ],
 "metadata": {
  "kernelspec": {
   "display_name": "Python 3",
   "language": "python",
   "name": "python3"
  },
  "language_info": {
   "codemirror_mode": {
    "name": "ipython",
    "version": 3
   },
   "file_extension": ".py",
   "mimetype": "text/x-python",
   "name": "python",
   "nbconvert_exporter": "python",
   "pygments_lexer": "ipython3",
   "version": "3.11.5"
  }
 },
 "nbformat": 4,
 "nbformat_minor": 2
}
